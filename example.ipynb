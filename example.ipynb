{
 "cells": [
  {
   "cell_type": "markdown",
   "metadata": {},
   "source": [
    "## Examples on how to use the modular functions"
   ]
  },
  {
   "cell_type": "code",
   "execution_count": 12,
   "metadata": {},
   "outputs": [],
   "source": [
    "from modules.utils import (\n",
    "    cleanduplicated_words,\n",
    "    lowercase,\n",
    "    cleanspaces,\n",
    "    onlyalphanumeric,\n",
    "    nums2words\n",
    "    )"
   ]
  },
  {
   "cell_type": "code",
   "execution_count": 17,
   "metadata": {},
   "outputs": [],
   "source": [
    "sentence = \"this is 1     sentence. .||.## Example to to to  SHOW the NLP preprocessing    techniques\""
   ]
  },
  {
   "cell_type": "code",
   "execution_count": 37,
   "metadata": {},
   "outputs": [],
   "source": [
    "def cleantext(text: str) -> str:\n",
    "    text = lowercase(text)\n",
    "    text = cleanspaces(text)\n",
    "    \n",
    "    previous_len = -1\n",
    "    while previous_len != len(text):\n",
    "        previous_len = len(text)\n",
    "        text = cleanduplicated_words(text)\n",
    "\n",
    "    text = onlyalphanumeric(text)\n",
    "    text = nums2words(text)\n",
    "    text = cleanspaces(text)\n",
    "    return text\n"
   ]
  },
  {
   "cell_type": "code",
   "execution_count": 42,
   "metadata": {},
   "outputs": [
    {
     "name": "stdout",
     "output_type": "stream",
     "text": [
      "ORIGINAL: this is 1     sentence. .||.## Example to to to  SHOW the NLP preprocessing    techniques\n",
      "CLEAN:    this is one sentence example to show the nlp preprocessing techniques\n"
     ]
    }
   ],
   "source": [
    "sentence = \"this is 1     sentence. .||.## Example to to to  SHOW the NLP preprocessing    techniques\"\n",
    "clean_sentence = cleantext(sentence)\n",
    "\n",
    "print(\"ORIGINAL: \" + sentence)\n",
    "print(\"CLEAN:    \" + clean_sentence)"
   ]
  }
 ],
 "metadata": {
  "kernelspec": {
   "display_name": ".venv",
   "language": "python",
   "name": "python3"
  },
  "language_info": {
   "codemirror_mode": {
    "name": "ipython",
    "version": 3
   },
   "file_extension": ".py",
   "mimetype": "text/x-python",
   "name": "python",
   "nbconvert_exporter": "python",
   "pygments_lexer": "ipython3",
   "version": "3.11.5"
  }
 },
 "nbformat": 4,
 "nbformat_minor": 2
}
